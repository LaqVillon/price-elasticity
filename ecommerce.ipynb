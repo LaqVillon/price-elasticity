{
 "cells": [
  {
   "cell_type": "code",
   "execution_count": 3,
   "id": "36a1aebc-80f5-48c2-9330-d3995cb17bed",
   "metadata": {
    "tags": []
   },
   "outputs": [],
   "source": [
    "from sklearn import preprocessing\n",
    "import numpy as np\n",
    "import pandas as pd"
   ]
  },
  {
   "cell_type": "code",
   "execution_count": 24,
   "id": "08ea601c-0f42-4d3e-8654-e5f410bc9671",
   "metadata": {
    "tags": []
   },
   "outputs": [
    {
     "name": "stderr",
     "output_type": "stream",
     "text": [
      "/tmp/ipykernel_20793/786199948.py:1: FutureWarning: The error_bad_lines argument has been deprecated and will be removed in a future version. Use on_bad_lines in the future.\n",
      "\n",
      "\n",
      "  data = pd.read_csv('orders.csv', error_bad_lines=False)\n",
      "Skipping line 22679: expected 34 fields, saw 44\n",
      "\n",
      "Skipping line 109983: expected 34 fields, saw 35\n",
      "\n"
     ]
    }
   ],
   "source": [
    "data = pd.read_csv('orders.csv', error_bad_lines=False)"
   ]
  },
  {
   "cell_type": "code",
   "execution_count": 25,
   "id": "48ca968e-c1df-4f74-b33c-945feca771a5",
   "metadata": {
    "tags": []
   },
   "outputs": [],
   "source": [
    "data = data.drop([109983,22679]) "
   ]
  },
  {
   "cell_type": "code",
   "execution_count": 29,
   "id": "9a71269e-4742-4a62-ab9c-cfa9636f3b3d",
   "metadata": {
    "tags": []
   },
   "outputs": [
    {
     "data": {
      "text/html": [
       "<div>\n",
       "<style scoped>\n",
       "    .dataframe tbody tr th:only-of-type {\n",
       "        vertical-align: middle;\n",
       "    }\n",
       "\n",
       "    .dataframe tbody tr th {\n",
       "        vertical-align: top;\n",
       "    }\n",
       "\n",
       "    .dataframe thead th {\n",
       "        text-align: right;\n",
       "    }\n",
       "</style>\n",
       "<table border=\"1\" class=\"dataframe\">\n",
       "  <thead>\n",
       "    <tr style=\"text-align: right;\">\n",
       "      <th></th>\n",
       "      <th>order_id</th>\n",
       "      <th>customer_id</th>\n",
       "      <th>order_status</th>\n",
       "      <th>order_purchase_timestamp</th>\n",
       "      <th>order_approved_at</th>\n",
       "      <th>order_delivered_carrier_date</th>\n",
       "      <th>order_delivered_customer_date</th>\n",
       "      <th>order_estimated_delivery_date</th>\n",
       "      <th>customer_unique_id</th>\n",
       "      <th>geolocation_zip_code_prefix</th>\n",
       "      <th>...</th>\n",
       "      <th>product_id</th>\n",
       "      <th>product_category_name</th>\n",
       "      <th>product_name_lenght</th>\n",
       "      <th>product_description_lenght</th>\n",
       "      <th>product_photos_qty</th>\n",
       "      <th>product_weight_g</th>\n",
       "      <th>product_length_cm</th>\n",
       "      <th>product_height_cm</th>\n",
       "      <th>product_width_cm</th>\n",
       "      <th>product_category_name_english</th>\n",
       "    </tr>\n",
       "  </thead>\n",
       "  <tbody>\n",
       "    <tr>\n",
       "      <th>107814</th>\n",
       "      <td>f9ec88f49637ef75f91d3b52f89b2809</td>\n",
       "      <td>f9221637539179d48001ecf3e5311cc9</td>\n",
       "      <td>delivered</td>\n",
       "      <td>2018-04-12 16:54:10</td>\n",
       "      <td>2018-04-13 02:32:07</td>\n",
       "      <td>2018-04-13 17:32:29</td>\n",
       "      <td>2018-04-30 19:06:47</td>\n",
       "      <td>2018-05-14 00:00:00</td>\n",
       "      <td>46417d48bc2287961151018320f0addb</td>\n",
       "      <td>94080</td>\n",
       "      <td>...</td>\n",
       "      <td>629e019a6f298a83aeecc7877964f935</td>\n",
       "      <td>automotivo</td>\n",
       "      <td>57</td>\n",
       "      <td>1166</td>\n",
       "      <td>5</td>\n",
       "      <td>1750</td>\n",
       "      <td>30</td>\n",
       "      <td>30</td>\n",
       "      <td>30</td>\n",
       "      <td>auto</td>\n",
       "    </tr>\n",
       "    <tr>\n",
       "      <th>44595</th>\n",
       "      <td>67642a6b87ab5c8cdfffd5b81da8a501</td>\n",
       "      <td>3e6dfa790a707f380c06b3cc7377d744</td>\n",
       "      <td>delivered</td>\n",
       "      <td>2017-11-11 17:04:27</td>\n",
       "      <td>2017-11-11 17:26:16</td>\n",
       "      <td>2017-11-16 18:12:00</td>\n",
       "      <td>2017-11-27 20:32:57</td>\n",
       "      <td>2017-12-08 00:00:00</td>\n",
       "      <td>62427dae018e2e825db2d1b95522d5ab</td>\n",
       "      <td>39260</td>\n",
       "      <td>...</td>\n",
       "      <td>64ff7191a8c0fb8fa9b42e947104d406</td>\n",
       "      <td>papelaria</td>\n",
       "      <td>58</td>\n",
       "      <td>391</td>\n",
       "      <td>4</td>\n",
       "      <td>5900</td>\n",
       "      <td>28</td>\n",
       "      <td>55</td>\n",
       "      <td>37</td>\n",
       "      <td>stationery</td>\n",
       "    </tr>\n",
       "  </tbody>\n",
       "</table>\n",
       "<p>2 rows × 34 columns</p>\n",
       "</div>"
      ],
      "text/plain": [
       "                                order_id                       customer_id  \\\n",
       "107814  f9ec88f49637ef75f91d3b52f89b2809  f9221637539179d48001ecf3e5311cc9   \n",
       "44595   67642a6b87ab5c8cdfffd5b81da8a501  3e6dfa790a707f380c06b3cc7377d744   \n",
       "\n",
       "       order_status order_purchase_timestamp    order_approved_at  \\\n",
       "107814    delivered      2018-04-12 16:54:10  2018-04-13 02:32:07   \n",
       "44595     delivered      2017-11-11 17:04:27  2017-11-11 17:26:16   \n",
       "\n",
       "       order_delivered_carrier_date order_delivered_customer_date  \\\n",
       "107814          2018-04-13 17:32:29           2018-04-30 19:06:47   \n",
       "44595           2017-11-16 18:12:00           2017-11-27 20:32:57   \n",
       "\n",
       "       order_estimated_delivery_date                customer_unique_id  \\\n",
       "107814           2018-05-14 00:00:00  46417d48bc2287961151018320f0addb   \n",
       "44595            2017-12-08 00:00:00  62427dae018e2e825db2d1b95522d5ab   \n",
       "\n",
       "        geolocation_zip_code_prefix  ...                        product_id  \\\n",
       "107814                        94080  ...  629e019a6f298a83aeecc7877964f935   \n",
       "44595                         39260  ...  64ff7191a8c0fb8fa9b42e947104d406   \n",
       "\n",
       "        product_category_name product_name_lenght product_description_lenght  \\\n",
       "107814             automotivo                  57                       1166   \n",
       "44595               papelaria                  58                        391   \n",
       "\n",
       "        product_photos_qty product_weight_g product_length_cm  \\\n",
       "107814                   5             1750                30   \n",
       "44595                    4             5900                28   \n",
       "\n",
       "        product_height_cm  product_width_cm  product_category_name_english  \n",
       "107814                 30                30                           auto  \n",
       "44595                  55                37                     stationery  \n",
       "\n",
       "[2 rows x 34 columns]"
      ]
     },
     "execution_count": 29,
     "metadata": {},
     "output_type": "execute_result"
    }
   ],
   "source": [
    "data.sample(2)"
   ]
  },
  {
   "cell_type": "code",
   "execution_count": 28,
   "id": "ad1e4a00-976c-4300-83cf-a497228488c5",
   "metadata": {
    "tags": []
   },
   "outputs": [
    {
     "data": {
      "text/plain": [
       "Index(['order_id', 'customer_id', 'order_status', 'order_purchase_timestamp',\n",
       "       'order_approved_at', 'order_delivered_carrier_date',\n",
       "       'order_delivered_customer_date', 'order_estimated_delivery_date',\n",
       "       'customer_unique_id', 'geolocation_zip_code_prefix', 'geolocation_lat',\n",
       "       'geolocation_lng', 'geolocation_city', 'geolocation_state',\n",
       "       'order_item_id', 'seller_id', 'shipping_limit_date', 'price',\n",
       "       'freight_value', 'geolocation_zip_code_prefix.1', 'geolocation_lat.1',\n",
       "       'geolocation_lng.1', 'geolocation_city.1', 'geolocation_state.1',\n",
       "       'product_id', 'product_category_name', 'product_name_lenght',\n",
       "       'product_description_lenght', 'product_photos_qty', 'product_weight_g',\n",
       "       'product_length_cm', 'product_height_cm', 'product_width_cm',\n",
       "       'product_category_name_english'],\n",
       "      dtype='object')"
      ]
     },
     "execution_count": 28,
     "metadata": {},
     "output_type": "execute_result"
    }
   ],
   "source": [
    "data.columns"
   ]
  },
  {
   "cell_type": "code",
   "execution_count": 32,
   "id": "9352ec62-6224-423d-babd-c97e2ec70d4d",
   "metadata": {
    "tags": []
   },
   "outputs": [
    {
     "data": {
      "text/plain": [
       "array(['delivered', 'shipped', 'canceled', 'invoiced', 'processing',\n",
       "       'approved', 'unavailable'], dtype=object)"
      ]
     },
     "execution_count": 32,
     "metadata": {},
     "output_type": "execute_result"
    }
   ],
   "source": [
    "data['order_status'].unique()"
   ]
  },
  {
   "cell_type": "code",
   "execution_count": 38,
   "id": "a4720cf5-3879-4b1f-9d9e-b0d35c246511",
   "metadata": {
    "tags": []
   },
   "outputs": [],
   "source": [
    "dict_order_status = {'delivered': 1, 'shipped': 2, 'canceled': 3,\\\n",
    "             'invoiced': 4, 'processing': 5, 'approved': 6, 'unavailable': 7}"
   ]
  },
  {
   "cell_type": "code",
   "execution_count": 39,
   "id": "9ef61033-c4a0-4d4b-9d24-bcb3f13f28d4",
   "metadata": {
    "tags": []
   },
   "outputs": [],
   "source": [
    "data['order_status'] = data['order_status'].replace(dict_order_status)"
   ]
  },
  {
   "cell_type": "code",
   "execution_count": 41,
   "id": "a04b9bb1-6e63-4698-b836-5fe5aa2fd9d1",
   "metadata": {
    "tags": []
   },
   "outputs": [
    {
     "data": {
      "text/html": [
       "<div>\n",
       "<style scoped>\n",
       "    .dataframe tbody tr th:only-of-type {\n",
       "        vertical-align: middle;\n",
       "    }\n",
       "\n",
       "    .dataframe tbody tr th {\n",
       "        vertical-align: top;\n",
       "    }\n",
       "\n",
       "    .dataframe thead th {\n",
       "        text-align: right;\n",
       "    }\n",
       "</style>\n",
       "<table border=\"1\" class=\"dataframe\">\n",
       "  <thead>\n",
       "    <tr style=\"text-align: right;\">\n",
       "      <th></th>\n",
       "      <th>order_id</th>\n",
       "      <th>customer_id</th>\n",
       "      <th>order_status</th>\n",
       "      <th>order_purchase_timestamp</th>\n",
       "      <th>order_approved_at</th>\n",
       "      <th>order_delivered_carrier_date</th>\n",
       "      <th>order_delivered_customer_date</th>\n",
       "      <th>order_estimated_delivery_date</th>\n",
       "      <th>customer_unique_id</th>\n",
       "      <th>geolocation_zip_code_prefix</th>\n",
       "      <th>...</th>\n",
       "      <th>product_id</th>\n",
       "      <th>product_category_name</th>\n",
       "      <th>product_name_lenght</th>\n",
       "      <th>product_description_lenght</th>\n",
       "      <th>product_photos_qty</th>\n",
       "      <th>product_weight_g</th>\n",
       "      <th>product_length_cm</th>\n",
       "      <th>product_height_cm</th>\n",
       "      <th>product_width_cm</th>\n",
       "      <th>product_category_name_english</th>\n",
       "    </tr>\n",
       "  </thead>\n",
       "  <tbody>\n",
       "    <tr>\n",
       "      <th>0</th>\n",
       "      <td>00010242fe8c5a6d1ba2dd792cb16214</td>\n",
       "      <td>3ce436f183e68e07877b285a838db11a</td>\n",
       "      <td>1</td>\n",
       "      <td>2017-09-13 08:59:02</td>\n",
       "      <td>2017-09-13 09:45:35</td>\n",
       "      <td>2017-09-19 18:34:16</td>\n",
       "      <td>2017-09-20 23:43:48</td>\n",
       "      <td>2017-09-29 00:00:00</td>\n",
       "      <td>871766c5855e863f6eccc05f988b23cb</td>\n",
       "      <td>28013</td>\n",
       "      <td>...</td>\n",
       "      <td>4244733e06e7ecb4970a6e2683c13e61</td>\n",
       "      <td>cool_stuff</td>\n",
       "      <td>58</td>\n",
       "      <td>598</td>\n",
       "      <td>4</td>\n",
       "      <td>650</td>\n",
       "      <td>28</td>\n",
       "      <td>9</td>\n",
       "      <td>14</td>\n",
       "      <td>cool_stuff</td>\n",
       "    </tr>\n",
       "    <tr>\n",
       "      <th>1</th>\n",
       "      <td>00018f77f2f0320c557190d7a144bdd3</td>\n",
       "      <td>f6dd3ec061db4e3987629fe6b26e5cce</td>\n",
       "      <td>1</td>\n",
       "      <td>2017-04-26 10:53:06</td>\n",
       "      <td>2017-04-26 11:05:13</td>\n",
       "      <td>2017-05-04 14:35:00</td>\n",
       "      <td>2017-05-12 16:04:24</td>\n",
       "      <td>2017-05-15 00:00:00</td>\n",
       "      <td>eb28e67c4c0b83846050ddfb8a35d051</td>\n",
       "      <td>15775</td>\n",
       "      <td>...</td>\n",
       "      <td>e5f2d52b802189ee658865ca93d83a8f</td>\n",
       "      <td>pet_shop</td>\n",
       "      <td>56</td>\n",
       "      <td>239</td>\n",
       "      <td>2</td>\n",
       "      <td>30000</td>\n",
       "      <td>50</td>\n",
       "      <td>30</td>\n",
       "      <td>40</td>\n",
       "      <td>pet_shop</td>\n",
       "    </tr>\n",
       "  </tbody>\n",
       "</table>\n",
       "<p>2 rows × 34 columns</p>\n",
       "</div>"
      ],
      "text/plain": [
       "                           order_id                       customer_id  \\\n",
       "0  00010242fe8c5a6d1ba2dd792cb16214  3ce436f183e68e07877b285a838db11a   \n",
       "1  00018f77f2f0320c557190d7a144bdd3  f6dd3ec061db4e3987629fe6b26e5cce   \n",
       "\n",
       "   order_status order_purchase_timestamp    order_approved_at  \\\n",
       "0             1      2017-09-13 08:59:02  2017-09-13 09:45:35   \n",
       "1             1      2017-04-26 10:53:06  2017-04-26 11:05:13   \n",
       "\n",
       "  order_delivered_carrier_date order_delivered_customer_date  \\\n",
       "0          2017-09-19 18:34:16           2017-09-20 23:43:48   \n",
       "1          2017-05-04 14:35:00           2017-05-12 16:04:24   \n",
       "\n",
       "  order_estimated_delivery_date                customer_unique_id  \\\n",
       "0           2017-09-29 00:00:00  871766c5855e863f6eccc05f988b23cb   \n",
       "1           2017-05-15 00:00:00  eb28e67c4c0b83846050ddfb8a35d051   \n",
       "\n",
       "   geolocation_zip_code_prefix  ...                        product_id  \\\n",
       "0                        28013  ...  4244733e06e7ecb4970a6e2683c13e61   \n",
       "1                        15775  ...  e5f2d52b802189ee658865ca93d83a8f   \n",
       "\n",
       "   product_category_name product_name_lenght product_description_lenght  \\\n",
       "0             cool_stuff                  58                        598   \n",
       "1               pet_shop                  56                        239   \n",
       "\n",
       "   product_photos_qty product_weight_g product_length_cm  product_height_cm  \\\n",
       "0                   4              650                28                  9   \n",
       "1                   2            30000                50                 30   \n",
       "\n",
       "   product_width_cm  product_category_name_english  \n",
       "0                14                     cool_stuff  \n",
       "1                40                       pet_shop  \n",
       "\n",
       "[2 rows x 34 columns]"
      ]
     },
     "execution_count": 41,
     "metadata": {},
     "output_type": "execute_result"
    }
   ],
   "source": [
    "data.head(2)"
   ]
  },
  {
   "cell_type": "code",
   "execution_count": 53,
   "id": "fc3d92ae-0f93-440d-8dba-5e7061fe83fe",
   "metadata": {
    "tags": []
   },
   "outputs": [
    {
     "name": "stdout",
     "output_type": "stream",
     "text": [
      "{'cool_stuff': 1, 'pet_shop': 2, 'furniture_decor': 3, 'perfumery': 4, 'garden_tools': 5, 'housewares': 6, 'telephony': 7, 'health_beauty': 8, 'books_technical': 9, 'fashion_bags_accessories': 10, 'bed_bath_table': 11, 'sports_leisure': 12, 'consoles_games': 13, 'office_furniture': 14, 'luggage_accessories': 15, 'food': 16, 'agro_industry_and_commerce': 17, 'electronics': 18, 'computers_accessories': 19, 'construction_tools_construction': 20, 'audio': 21, 'baby': 22, 'construction_tools_lights': 23, 'toys': 24, 'stationery': 25, 'industry_commerce_and_business': 26, 'watches_gifts': 27, 'auto': 28, 'home_appliances': 29, 'kitchen_dining_laundry_garden_furniture': 30, 'air_conditioning': 31, 'home_confort': 32, 'fixed_telephony': 33, 'small_appliances_home_oven_and_coffee': 34, 'diapers_and_hygiene': 35, 'signaling_and_security': 36, 'musical_instruments': 37, 'small_appliances': 38, 'costruction_tools_garden': 39, 'art': 40, 'home_construction': 41, 'books_general_interest': 42, 'party_supplies': 43, 'construction_tools_safety': 44, 'cine_photo': 45, 'fashion_underwear_beach': 46, 'fashion_male_clothing': 47, 'food_drink': 48, 'drinks': 49, 'furniture_living_room': 50, 'market_place': 51, 'music': 52, 'fashion_shoes': 53, 'flowers': 54, 'home_appliances_2': 55, 'fashio_female_clothing': 56, 'computers': 57, 'books_imported': 58, 'christmas_supplies': 59, 'furniture_bedroom': 60, 'home_comfort_2': 61, 'portable_kitchen_and_food_preparers': 62, 'dvds_blu_ray': 63, 'cds_dvds_musicals': 64, 'arts_and_craftmanship': 65, 'furniture_mattress_and_upholstery': 66, 'tablets_printing_image': 67, 'costruction_tools_tools': 68, 'fashion_sport': 69, 'la_cuisine': 70, 'security_and_services': 71, 'fashion_childrens_clothes': 72}\n"
     ]
    }
   ],
   "source": [
    "categories = data['product_category_name_english'].unique()\n",
    "dict_categories = {categories: \\\n",
    "               indice + 1 for indice, categories in enumerate(categories)}\n",
    "print(dict_categories)"
   ]
  },
  {
   "cell_type": "code",
   "execution_count": 54,
   "id": "e221903b-1c8a-4648-9b68-000533962512",
   "metadata": {
    "tags": []
   },
   "outputs": [
    {
     "data": {
      "text/html": [
       "<div>\n",
       "<style scoped>\n",
       "    .dataframe tbody tr th:only-of-type {\n",
       "        vertical-align: middle;\n",
       "    }\n",
       "\n",
       "    .dataframe tbody tr th {\n",
       "        vertical-align: top;\n",
       "    }\n",
       "\n",
       "    .dataframe thead th {\n",
       "        text-align: right;\n",
       "    }\n",
       "</style>\n",
       "<table border=\"1\" class=\"dataframe\">\n",
       "  <thead>\n",
       "    <tr style=\"text-align: right;\">\n",
       "      <th></th>\n",
       "      <th>order_id</th>\n",
       "      <th>customer_id</th>\n",
       "      <th>order_status</th>\n",
       "      <th>order_purchase_timestamp</th>\n",
       "      <th>order_approved_at</th>\n",
       "      <th>order_delivered_carrier_date</th>\n",
       "      <th>order_delivered_customer_date</th>\n",
       "      <th>order_estimated_delivery_date</th>\n",
       "      <th>customer_unique_id</th>\n",
       "      <th>geolocation_zip_code_prefix</th>\n",
       "      <th>...</th>\n",
       "      <th>product_id</th>\n",
       "      <th>product_category_name</th>\n",
       "      <th>product_name_lenght</th>\n",
       "      <th>product_description_lenght</th>\n",
       "      <th>product_photos_qty</th>\n",
       "      <th>product_weight_g</th>\n",
       "      <th>product_length_cm</th>\n",
       "      <th>product_height_cm</th>\n",
       "      <th>product_width_cm</th>\n",
       "      <th>product_category_name_english</th>\n",
       "    </tr>\n",
       "  </thead>\n",
       "  <tbody>\n",
       "    <tr>\n",
       "      <th>0</th>\n",
       "      <td>00010242fe8c5a6d1ba2dd792cb16214</td>\n",
       "      <td>3ce436f183e68e07877b285a838db11a</td>\n",
       "      <td>1</td>\n",
       "      <td>2017-09-13 08:59:02</td>\n",
       "      <td>2017-09-13 09:45:35</td>\n",
       "      <td>2017-09-19 18:34:16</td>\n",
       "      <td>2017-09-20 23:43:48</td>\n",
       "      <td>2017-09-29 00:00:00</td>\n",
       "      <td>871766c5855e863f6eccc05f988b23cb</td>\n",
       "      <td>28013</td>\n",
       "      <td>...</td>\n",
       "      <td>4244733e06e7ecb4970a6e2683c13e61</td>\n",
       "      <td>1</td>\n",
       "      <td>58</td>\n",
       "      <td>598</td>\n",
       "      <td>4</td>\n",
       "      <td>650</td>\n",
       "      <td>28</td>\n",
       "      <td>9</td>\n",
       "      <td>14</td>\n",
       "      <td>1</td>\n",
       "    </tr>\n",
       "    <tr>\n",
       "      <th>1</th>\n",
       "      <td>00018f77f2f0320c557190d7a144bdd3</td>\n",
       "      <td>f6dd3ec061db4e3987629fe6b26e5cce</td>\n",
       "      <td>1</td>\n",
       "      <td>2017-04-26 10:53:06</td>\n",
       "      <td>2017-04-26 11:05:13</td>\n",
       "      <td>2017-05-04 14:35:00</td>\n",
       "      <td>2017-05-12 16:04:24</td>\n",
       "      <td>2017-05-15 00:00:00</td>\n",
       "      <td>eb28e67c4c0b83846050ddfb8a35d051</td>\n",
       "      <td>15775</td>\n",
       "      <td>...</td>\n",
       "      <td>e5f2d52b802189ee658865ca93d83a8f</td>\n",
       "      <td>2</td>\n",
       "      <td>56</td>\n",
       "      <td>239</td>\n",
       "      <td>2</td>\n",
       "      <td>30000</td>\n",
       "      <td>50</td>\n",
       "      <td>30</td>\n",
       "      <td>40</td>\n",
       "      <td>2</td>\n",
       "    </tr>\n",
       "  </tbody>\n",
       "</table>\n",
       "<p>2 rows × 34 columns</p>\n",
       "</div>"
      ],
      "text/plain": [
       "                           order_id                       customer_id  \\\n",
       "0  00010242fe8c5a6d1ba2dd792cb16214  3ce436f183e68e07877b285a838db11a   \n",
       "1  00018f77f2f0320c557190d7a144bdd3  f6dd3ec061db4e3987629fe6b26e5cce   \n",
       "\n",
       "   order_status order_purchase_timestamp    order_approved_at  \\\n",
       "0             1      2017-09-13 08:59:02  2017-09-13 09:45:35   \n",
       "1             1      2017-04-26 10:53:06  2017-04-26 11:05:13   \n",
       "\n",
       "  order_delivered_carrier_date order_delivered_customer_date  \\\n",
       "0          2017-09-19 18:34:16           2017-09-20 23:43:48   \n",
       "1          2017-05-04 14:35:00           2017-05-12 16:04:24   \n",
       "\n",
       "  order_estimated_delivery_date                customer_unique_id  \\\n",
       "0           2017-09-29 00:00:00  871766c5855e863f6eccc05f988b23cb   \n",
       "1           2017-05-15 00:00:00  eb28e67c4c0b83846050ddfb8a35d051   \n",
       "\n",
       "   geolocation_zip_code_prefix  ...                        product_id  \\\n",
       "0                        28013  ...  4244733e06e7ecb4970a6e2683c13e61   \n",
       "1                        15775  ...  e5f2d52b802189ee658865ca93d83a8f   \n",
       "\n",
       "   product_category_name product_name_lenght product_description_lenght  \\\n",
       "0                      1                  58                        598   \n",
       "1                      2                  56                        239   \n",
       "\n",
       "   product_photos_qty product_weight_g product_length_cm  product_height_cm  \\\n",
       "0                   4              650                28                  9   \n",
       "1                   2            30000                50                 30   \n",
       "\n",
       "   product_width_cm  product_category_name_english  \n",
       "0                14                              1  \n",
       "1                40                              2  \n",
       "\n",
       "[2 rows x 34 columns]"
      ]
     },
     "execution_count": 54,
     "metadata": {},
     "output_type": "execute_result"
    }
   ],
   "source": [
    "data['product_category_name_english'] = data['product_category_name_english'].replace(dict_categories)\n",
    "data.head(2)"
   ]
  },
  {
   "cell_type": "code",
   "execution_count": 52,
   "id": "88988eed-affd-4eb8-b73e-c4fadfdd3862",
   "metadata": {
    "tags": []
   },
   "outputs": [],
   "source": [
    "categories = data['product_category_name_english'].unique()"
   ]
  },
  {
   "cell_type": "code",
   "execution_count": 55,
   "id": "5650da50-617d-4e72-a673-f76ffed97c96",
   "metadata": {
    "tags": []
   },
   "outputs": [],
   "source": [
    "data = data.drop('product_category_name', axis=1)"
   ]
  },
  {
   "cell_type": "code",
   "execution_count": 57,
   "id": "238db407-d671-416b-b578-f4bff449d8e6",
   "metadata": {
    "tags": []
   },
   "outputs": [
    {
     "data": {
      "text/html": [
       "<div>\n",
       "<style scoped>\n",
       "    .dataframe tbody tr th:only-of-type {\n",
       "        vertical-align: middle;\n",
       "    }\n",
       "\n",
       "    .dataframe tbody tr th {\n",
       "        vertical-align: top;\n",
       "    }\n",
       "\n",
       "    .dataframe thead th {\n",
       "        text-align: right;\n",
       "    }\n",
       "</style>\n",
       "<table border=\"1\" class=\"dataframe\">\n",
       "  <thead>\n",
       "    <tr style=\"text-align: right;\">\n",
       "      <th></th>\n",
       "      <th>order_id</th>\n",
       "      <th>customer_id</th>\n",
       "      <th>order_status</th>\n",
       "      <th>order_purchase_timestamp</th>\n",
       "      <th>order_approved_at</th>\n",
       "      <th>order_delivered_carrier_date</th>\n",
       "      <th>order_delivered_customer_date</th>\n",
       "      <th>order_estimated_delivery_date</th>\n",
       "      <th>customer_unique_id</th>\n",
       "      <th>geolocation_zip_code_prefix</th>\n",
       "      <th>...</th>\n",
       "      <th>geolocation_state.1</th>\n",
       "      <th>product_id</th>\n",
       "      <th>product_name_lenght</th>\n",
       "      <th>product_description_lenght</th>\n",
       "      <th>product_photos_qty</th>\n",
       "      <th>product_weight_g</th>\n",
       "      <th>product_length_cm</th>\n",
       "      <th>product_height_cm</th>\n",
       "      <th>product_width_cm</th>\n",
       "      <th>product_category_name_english</th>\n",
       "    </tr>\n",
       "  </thead>\n",
       "  <tbody>\n",
       "    <tr>\n",
       "      <th>0</th>\n",
       "      <td>00010242fe8c5a6d1ba2dd792cb16214</td>\n",
       "      <td>3ce436f183e68e07877b285a838db11a</td>\n",
       "      <td>1</td>\n",
       "      <td>2017-09-13 08:59:02</td>\n",
       "      <td>2017-09-13 09:45:35</td>\n",
       "      <td>2017-09-19 18:34:16</td>\n",
       "      <td>2017-09-20 23:43:48</td>\n",
       "      <td>2017-09-29 00:00:00</td>\n",
       "      <td>871766c5855e863f6eccc05f988b23cb</td>\n",
       "      <td>28013</td>\n",
       "      <td>...</td>\n",
       "      <td>RJ</td>\n",
       "      <td>4244733e06e7ecb4970a6e2683c13e61</td>\n",
       "      <td>58</td>\n",
       "      <td>598</td>\n",
       "      <td>4</td>\n",
       "      <td>650</td>\n",
       "      <td>28</td>\n",
       "      <td>9</td>\n",
       "      <td>14</td>\n",
       "      <td>1</td>\n",
       "    </tr>\n",
       "    <tr>\n",
       "      <th>1</th>\n",
       "      <td>00018f77f2f0320c557190d7a144bdd3</td>\n",
       "      <td>f6dd3ec061db4e3987629fe6b26e5cce</td>\n",
       "      <td>1</td>\n",
       "      <td>2017-04-26 10:53:06</td>\n",
       "      <td>2017-04-26 11:05:13</td>\n",
       "      <td>2017-05-04 14:35:00</td>\n",
       "      <td>2017-05-12 16:04:24</td>\n",
       "      <td>2017-05-15 00:00:00</td>\n",
       "      <td>eb28e67c4c0b83846050ddfb8a35d051</td>\n",
       "      <td>15775</td>\n",
       "      <td>...</td>\n",
       "      <td>SP</td>\n",
       "      <td>e5f2d52b802189ee658865ca93d83a8f</td>\n",
       "      <td>56</td>\n",
       "      <td>239</td>\n",
       "      <td>2</td>\n",
       "      <td>30000</td>\n",
       "      <td>50</td>\n",
       "      <td>30</td>\n",
       "      <td>40</td>\n",
       "      <td>2</td>\n",
       "    </tr>\n",
       "  </tbody>\n",
       "</table>\n",
       "<p>2 rows × 33 columns</p>\n",
       "</div>"
      ],
      "text/plain": [
       "                           order_id                       customer_id  \\\n",
       "0  00010242fe8c5a6d1ba2dd792cb16214  3ce436f183e68e07877b285a838db11a   \n",
       "1  00018f77f2f0320c557190d7a144bdd3  f6dd3ec061db4e3987629fe6b26e5cce   \n",
       "\n",
       "   order_status order_purchase_timestamp    order_approved_at  \\\n",
       "0             1      2017-09-13 08:59:02  2017-09-13 09:45:35   \n",
       "1             1      2017-04-26 10:53:06  2017-04-26 11:05:13   \n",
       "\n",
       "  order_delivered_carrier_date order_delivered_customer_date  \\\n",
       "0          2017-09-19 18:34:16           2017-09-20 23:43:48   \n",
       "1          2017-05-04 14:35:00           2017-05-12 16:04:24   \n",
       "\n",
       "  order_estimated_delivery_date                customer_unique_id  \\\n",
       "0           2017-09-29 00:00:00  871766c5855e863f6eccc05f988b23cb   \n",
       "1           2017-05-15 00:00:00  eb28e67c4c0b83846050ddfb8a35d051   \n",
       "\n",
       "   geolocation_zip_code_prefix  ...  geolocation_state.1  \\\n",
       "0                        28013  ...                   RJ   \n",
       "1                        15775  ...                   SP   \n",
       "\n",
       "                         product_id product_name_lenght  \\\n",
       "0  4244733e06e7ecb4970a6e2683c13e61                  58   \n",
       "1  e5f2d52b802189ee658865ca93d83a8f                  56   \n",
       "\n",
       "  product_description_lenght  product_photos_qty product_weight_g  \\\n",
       "0                        598                   4              650   \n",
       "1                        239                   2            30000   \n",
       "\n",
       "  product_length_cm  product_height_cm  product_width_cm  \\\n",
       "0                28                  9                14   \n",
       "1                50                 30                40   \n",
       "\n",
       "   product_category_name_english  \n",
       "0                              1  \n",
       "1                              2  \n",
       "\n",
       "[2 rows x 33 columns]"
      ]
     },
     "execution_count": 57,
     "metadata": {},
     "output_type": "execute_result"
    }
   ],
   "source": [
    "data.head(2)"
   ]
  },
  {
   "cell_type": "code",
   "execution_count": 61,
   "id": "1efd1a23-aa8e-4225-ab9d-b014eaf0bb70",
   "metadata": {
    "tags": []
   },
   "outputs": [],
   "source": [
    "extract = data[['geolocation_zip_code_prefix','geolocation_state']]\n",
    "sorted_extract = extract.sort_values(by = 'geolocation_zip_code_prefix')"
   ]
  },
  {
   "cell_type": "code",
   "execution_count": 64,
   "id": "188e1a54-a484-48fc-ab03-76c4f23fa563",
   "metadata": {
    "tags": []
   },
   "outputs": [
    {
     "data": {
      "text/plain": [
       "array(['SP', 'RJ', 'ES', 'MG', 'BA', 'SE', 'PE', 'AL', 'PB', 'RN', 'CE',\n",
       "       'PI', 'MA', 'PA', 'AP', 'AM', 'RR', 'AC', 'DF', 'GO', 'RO', 'TO',\n",
       "       'MT', 'MS', 'PR', 'SC', 'RS'], dtype=object)"
      ]
     },
     "execution_count": 64,
     "metadata": {},
     "output_type": "execute_result"
    }
   ],
   "source": [
    "sorted_extract['geolocation_state'].unique()"
   ]
  },
  {
   "cell_type": "code",
   "execution_count": 65,
   "id": "e5213c44-b45c-4b59-82e7-b0655ec1d24e",
   "metadata": {
    "tags": []
   },
   "outputs": [
    {
     "name": "stdout",
     "output_type": "stream",
     "text": [
      "{'SP': 1, 'RJ': 2, 'ES': 3, 'MG': 4, 'BA': 5, 'SE': 6, 'PE': 7, 'AL': 8, 'PB': 9, 'RN': 10, 'CE': 11, 'PI': 12, 'MA': 13, 'PA': 14, 'AP': 15, 'AM': 16, 'RR': 17, 'AC': 18, 'DF': 19, 'GO': 20, 'RO': 21, 'TO': 22, 'MT': 23, 'MS': 24, 'PR': 25, 'SC': 26, 'RS': 27}\n"
     ]
    }
   ],
   "source": [
    "states = sorted_extract['geolocation_state'].unique()\n",
    "dict_states = {states: \\\n",
    "               indice + 1 for indice, states in enumerate(states)}\n",
    "print(dict_states)"
   ]
  },
  {
   "cell_type": "code",
   "execution_count": 66,
   "id": "7e30c1e1-3f42-4cbc-bd10-02ea8f09fcae",
   "metadata": {
    "tags": []
   },
   "outputs": [],
   "source": [
    "data['geolocation_state'] = data['geolocation_state'].replace(dict_states)"
   ]
  },
  {
   "cell_type": "code",
   "execution_count": 68,
   "id": "a9fa8bf4-7a0d-4568-8697-8b88ad05e4a3",
   "metadata": {
    "tags": []
   },
   "outputs": [],
   "source": [
    "data['geolocation_state.1'] = data['geolocation_state.1'].replace(dict_states)"
   ]
  },
  {
   "cell_type": "code",
   "execution_count": 69,
   "id": "e61fa1d5-d724-4bfd-a083-944de8485b05",
   "metadata": {
    "tags": []
   },
   "outputs": [
    {
     "data": {
      "text/html": [
       "<div>\n",
       "<style scoped>\n",
       "    .dataframe tbody tr th:only-of-type {\n",
       "        vertical-align: middle;\n",
       "    }\n",
       "\n",
       "    .dataframe tbody tr th {\n",
       "        vertical-align: top;\n",
       "    }\n",
       "\n",
       "    .dataframe thead th {\n",
       "        text-align: right;\n",
       "    }\n",
       "</style>\n",
       "<table border=\"1\" class=\"dataframe\">\n",
       "  <thead>\n",
       "    <tr style=\"text-align: right;\">\n",
       "      <th></th>\n",
       "      <th>order_id</th>\n",
       "      <th>customer_id</th>\n",
       "      <th>order_status</th>\n",
       "      <th>order_purchase_timestamp</th>\n",
       "      <th>order_approved_at</th>\n",
       "      <th>order_delivered_carrier_date</th>\n",
       "      <th>order_delivered_customer_date</th>\n",
       "      <th>order_estimated_delivery_date</th>\n",
       "      <th>customer_unique_id</th>\n",
       "      <th>geolocation_zip_code_prefix</th>\n",
       "      <th>...</th>\n",
       "      <th>geolocation_state.1</th>\n",
       "      <th>product_id</th>\n",
       "      <th>product_name_lenght</th>\n",
       "      <th>product_description_lenght</th>\n",
       "      <th>product_photos_qty</th>\n",
       "      <th>product_weight_g</th>\n",
       "      <th>product_length_cm</th>\n",
       "      <th>product_height_cm</th>\n",
       "      <th>product_width_cm</th>\n",
       "      <th>product_category_name_english</th>\n",
       "    </tr>\n",
       "  </thead>\n",
       "  <tbody>\n",
       "    <tr>\n",
       "      <th>0</th>\n",
       "      <td>00010242fe8c5a6d1ba2dd792cb16214</td>\n",
       "      <td>3ce436f183e68e07877b285a838db11a</td>\n",
       "      <td>1</td>\n",
       "      <td>2017-09-13 08:59:02</td>\n",
       "      <td>2017-09-13 09:45:35</td>\n",
       "      <td>2017-09-19 18:34:16</td>\n",
       "      <td>2017-09-20 23:43:48</td>\n",
       "      <td>2017-09-29 00:00:00</td>\n",
       "      <td>871766c5855e863f6eccc05f988b23cb</td>\n",
       "      <td>28013</td>\n",
       "      <td>...</td>\n",
       "      <td>2</td>\n",
       "      <td>4244733e06e7ecb4970a6e2683c13e61</td>\n",
       "      <td>58</td>\n",
       "      <td>598</td>\n",
       "      <td>4</td>\n",
       "      <td>650</td>\n",
       "      <td>28</td>\n",
       "      <td>9</td>\n",
       "      <td>14</td>\n",
       "      <td>1</td>\n",
       "    </tr>\n",
       "    <tr>\n",
       "      <th>1</th>\n",
       "      <td>00018f77f2f0320c557190d7a144bdd3</td>\n",
       "      <td>f6dd3ec061db4e3987629fe6b26e5cce</td>\n",
       "      <td>1</td>\n",
       "      <td>2017-04-26 10:53:06</td>\n",
       "      <td>2017-04-26 11:05:13</td>\n",
       "      <td>2017-05-04 14:35:00</td>\n",
       "      <td>2017-05-12 16:04:24</td>\n",
       "      <td>2017-05-15 00:00:00</td>\n",
       "      <td>eb28e67c4c0b83846050ddfb8a35d051</td>\n",
       "      <td>15775</td>\n",
       "      <td>...</td>\n",
       "      <td>1</td>\n",
       "      <td>e5f2d52b802189ee658865ca93d83a8f</td>\n",
       "      <td>56</td>\n",
       "      <td>239</td>\n",
       "      <td>2</td>\n",
       "      <td>30000</td>\n",
       "      <td>50</td>\n",
       "      <td>30</td>\n",
       "      <td>40</td>\n",
       "      <td>2</td>\n",
       "    </tr>\n",
       "  </tbody>\n",
       "</table>\n",
       "<p>2 rows × 33 columns</p>\n",
       "</div>"
      ],
      "text/plain": [
       "                           order_id                       customer_id  \\\n",
       "0  00010242fe8c5a6d1ba2dd792cb16214  3ce436f183e68e07877b285a838db11a   \n",
       "1  00018f77f2f0320c557190d7a144bdd3  f6dd3ec061db4e3987629fe6b26e5cce   \n",
       "\n",
       "   order_status order_purchase_timestamp    order_approved_at  \\\n",
       "0             1      2017-09-13 08:59:02  2017-09-13 09:45:35   \n",
       "1             1      2017-04-26 10:53:06  2017-04-26 11:05:13   \n",
       "\n",
       "  order_delivered_carrier_date order_delivered_customer_date  \\\n",
       "0          2017-09-19 18:34:16           2017-09-20 23:43:48   \n",
       "1          2017-05-04 14:35:00           2017-05-12 16:04:24   \n",
       "\n",
       "  order_estimated_delivery_date                customer_unique_id  \\\n",
       "0           2017-09-29 00:00:00  871766c5855e863f6eccc05f988b23cb   \n",
       "1           2017-05-15 00:00:00  eb28e67c4c0b83846050ddfb8a35d051   \n",
       "\n",
       "   geolocation_zip_code_prefix  ...  geolocation_state.1  \\\n",
       "0                        28013  ...                    2   \n",
       "1                        15775  ...                    1   \n",
       "\n",
       "                         product_id product_name_lenght  \\\n",
       "0  4244733e06e7ecb4970a6e2683c13e61                  58   \n",
       "1  e5f2d52b802189ee658865ca93d83a8f                  56   \n",
       "\n",
       "   product_description_lenght  product_photos_qty product_weight_g  \\\n",
       "0                         598                   4              650   \n",
       "1                         239                   2            30000   \n",
       "\n",
       "  product_length_cm  product_height_cm  product_width_cm  \\\n",
       "0                28                  9                14   \n",
       "1                50                 30                40   \n",
       "\n",
       "   product_category_name_english  \n",
       "0                              1  \n",
       "1                              2  \n",
       "\n",
       "[2 rows x 33 columns]"
      ]
     },
     "execution_count": 69,
     "metadata": {},
     "output_type": "execute_result"
    }
   ],
   "source": [
    "data.head(2)"
   ]
  },
  {
   "cell_type": "code",
   "execution_count": 70,
   "id": "b82effc1-5946-4705-b9a7-4baaa602aca0",
   "metadata": {
    "tags": []
   },
   "outputs": [
    {
     "data": {
      "text/plain": [
       "110088"
      ]
     },
     "execution_count": 70,
     "metadata": {},
     "output_type": "execute_result"
    }
   ],
   "source": [
    "len(data)"
   ]
  },
  {
   "cell_type": "code",
   "execution_count": 82,
   "id": "e21a9a33-20fa-49e4-9989-7be5ccedefcb",
   "metadata": {
    "tags": []
   },
   "outputs": [
    {
     "name": "stdout",
     "output_type": "stream",
     "text": [
      "93303\n"
     ]
    }
   ],
   "source": [
    "customers = data['customer_unique_id'].unique()\n",
    "dict_customers = {customers: \\\n",
    "               indice + 1 for indice, customers in enumerate(customers)}\n",
    "print(len(dict_customers))"
   ]
  },
  {
   "cell_type": "code",
   "execution_count": null,
   "id": "e8d40fa3-217c-46ff-9aab-8c2307fee198",
   "metadata": {},
   "outputs": [],
   "source": [
    "data['geolocation_state.1'] = data['geolocation_state.1'].replace(dict_states)"
   ]
  },
  {
   "cell_type": "code",
   "execution_count": 84,
   "id": "62b83b38-91cd-4572-a838-a6937fdb7531",
   "metadata": {
    "tags": []
   },
   "outputs": [
    {
     "name": "stdout",
     "output_type": "stream",
     "text": [
      "32156\n"
     ]
    }
   ],
   "source": [
    "products = data['product_id'].unique()\n",
    "dict_products = {products: \\\n",
    "               indice + 1 for indice, products in enumerate(products)}\n",
    "print(len(dict_products))"
   ]
  },
  {
   "cell_type": "code",
   "execution_count": 87,
   "id": "26c064a6-64ea-4d0e-acb9-dcb8e2af7119",
   "metadata": {
    "tags": []
   },
   "outputs": [
    {
     "name": "stdout",
     "output_type": "stream",
     "text": [
      "96427\n"
     ]
    }
   ],
   "source": [
    "orders = data['order_id'].unique()\n",
    "dict_orders = {orders: \\\n",
    "               indice + 1 for indice, orders in enumerate(orders)}\n",
    "print(len(dict_orders))"
   ]
  },
  {
   "cell_type": "code",
   "execution_count": 75,
   "id": "e6040210-495f-4c3b-bdb1-cc3560c6f3ba",
   "metadata": {
    "tags": []
   },
   "outputs": [],
   "source": [
    "data = data.drop('customer_id', axis=1)"
   ]
  },
  {
   "cell_type": "code",
   "execution_count": 88,
   "id": "73fdfbc0-ec78-4d97-9ee3-ec3604e121a2",
   "metadata": {
    "tags": []
   },
   "outputs": [
    {
     "data": {
      "text/html": [
       "<div>\n",
       "<style scoped>\n",
       "    .dataframe tbody tr th:only-of-type {\n",
       "        vertical-align: middle;\n",
       "    }\n",
       "\n",
       "    .dataframe tbody tr th {\n",
       "        vertical-align: top;\n",
       "    }\n",
       "\n",
       "    .dataframe thead th {\n",
       "        text-align: right;\n",
       "    }\n",
       "</style>\n",
       "<table border=\"1\" class=\"dataframe\">\n",
       "  <thead>\n",
       "    <tr style=\"text-align: right;\">\n",
       "      <th></th>\n",
       "      <th>order_id</th>\n",
       "      <th>order_status</th>\n",
       "      <th>order_purchase_timestamp</th>\n",
       "      <th>order_approved_at</th>\n",
       "      <th>order_delivered_carrier_date</th>\n",
       "      <th>order_delivered_customer_date</th>\n",
       "      <th>order_estimated_delivery_date</th>\n",
       "      <th>customer_unique_id</th>\n",
       "      <th>geolocation_zip_code_prefix</th>\n",
       "      <th>geolocation_lat</th>\n",
       "      <th>...</th>\n",
       "      <th>geolocation_state.1</th>\n",
       "      <th>product_id</th>\n",
       "      <th>product_name_lenght</th>\n",
       "      <th>product_description_lenght</th>\n",
       "      <th>product_photos_qty</th>\n",
       "      <th>product_weight_g</th>\n",
       "      <th>product_length_cm</th>\n",
       "      <th>product_height_cm</th>\n",
       "      <th>product_width_cm</th>\n",
       "      <th>product_category_name_english</th>\n",
       "    </tr>\n",
       "  </thead>\n",
       "  <tbody>\n",
       "    <tr>\n",
       "      <th>0</th>\n",
       "      <td>00010242fe8c5a6d1ba2dd792cb16214</td>\n",
       "      <td>1</td>\n",
       "      <td>2017-09-13 08:59:02</td>\n",
       "      <td>2017-09-13 09:45:35</td>\n",
       "      <td>2017-09-19 18:34:16</td>\n",
       "      <td>2017-09-20 23:43:48</td>\n",
       "      <td>2017-09-29 00:00:00</td>\n",
       "      <td>871766c5855e863f6eccc05f988b23cb</td>\n",
       "      <td>28013</td>\n",
       "      <td>-21.763186</td>\n",
       "      <td>...</td>\n",
       "      <td>2</td>\n",
       "      <td>4244733e06e7ecb4970a6e2683c13e61</td>\n",
       "      <td>58</td>\n",
       "      <td>598</td>\n",
       "      <td>4</td>\n",
       "      <td>650</td>\n",
       "      <td>28</td>\n",
       "      <td>9</td>\n",
       "      <td>14</td>\n",
       "      <td>1</td>\n",
       "    </tr>\n",
       "    <tr>\n",
       "      <th>1</th>\n",
       "      <td>00018f77f2f0320c557190d7a144bdd3</td>\n",
       "      <td>1</td>\n",
       "      <td>2017-04-26 10:53:06</td>\n",
       "      <td>2017-04-26 11:05:13</td>\n",
       "      <td>2017-05-04 14:35:00</td>\n",
       "      <td>2017-05-12 16:04:24</td>\n",
       "      <td>2017-05-15 00:00:00</td>\n",
       "      <td>eb28e67c4c0b83846050ddfb8a35d051</td>\n",
       "      <td>15775</td>\n",
       "      <td>-20.222506</td>\n",
       "      <td>...</td>\n",
       "      <td>1</td>\n",
       "      <td>e5f2d52b802189ee658865ca93d83a8f</td>\n",
       "      <td>56</td>\n",
       "      <td>239</td>\n",
       "      <td>2</td>\n",
       "      <td>30000</td>\n",
       "      <td>50</td>\n",
       "      <td>30</td>\n",
       "      <td>40</td>\n",
       "      <td>2</td>\n",
       "    </tr>\n",
       "  </tbody>\n",
       "</table>\n",
       "<p>2 rows × 32 columns</p>\n",
       "</div>"
      ],
      "text/plain": [
       "                           order_id  order_status order_purchase_timestamp  \\\n",
       "0  00010242fe8c5a6d1ba2dd792cb16214             1      2017-09-13 08:59:02   \n",
       "1  00018f77f2f0320c557190d7a144bdd3             1      2017-04-26 10:53:06   \n",
       "\n",
       "     order_approved_at order_delivered_carrier_date  \\\n",
       "0  2017-09-13 09:45:35          2017-09-19 18:34:16   \n",
       "1  2017-04-26 11:05:13          2017-05-04 14:35:00   \n",
       "\n",
       "  order_delivered_customer_date order_estimated_delivery_date  \\\n",
       "0           2017-09-20 23:43:48           2017-09-29 00:00:00   \n",
       "1           2017-05-12 16:04:24           2017-05-15 00:00:00   \n",
       "\n",
       "                 customer_unique_id  geolocation_zip_code_prefix  \\\n",
       "0  871766c5855e863f6eccc05f988b23cb                        28013   \n",
       "1  eb28e67c4c0b83846050ddfb8a35d051                        15775   \n",
       "\n",
       "   geolocation_lat  ...  geolocation_state.1  \\\n",
       "0       -21.763186  ...                    2   \n",
       "1       -20.222506  ...                    1   \n",
       "\n",
       "                         product_id  product_name_lenght  \\\n",
       "0  4244733e06e7ecb4970a6e2683c13e61                   58   \n",
       "1  e5f2d52b802189ee658865ca93d83a8f                   56   \n",
       "\n",
       "   product_description_lenght product_photos_qty product_weight_g  \\\n",
       "0                         598                  4              650   \n",
       "1                         239                  2            30000   \n",
       "\n",
       "   product_length_cm  product_height_cm  product_width_cm  \\\n",
       "0                 28                  9                14   \n",
       "1                 50                 30                40   \n",
       "\n",
       "   product_category_name_english  \n",
       "0                              1  \n",
       "1                              2  \n",
       "\n",
       "[2 rows x 32 columns]"
      ]
     },
     "execution_count": 88,
     "metadata": {},
     "output_type": "execute_result"
    }
   ],
   "source": [
    "data.head(2)"
   ]
  },
  {
   "cell_type": "code",
   "execution_count": null,
   "id": "c95a25a6-8222-49fd-a86a-62ce4fe3cb77",
   "metadata": {},
   "outputs": [],
   "source": []
  }
 ],
 "metadata": {
  "kernelspec": {
   "display_name": "Python 3 (ipykernel)",
   "language": "python",
   "name": "python3"
  },
  "language_info": {
   "codemirror_mode": {
    "name": "ipython",
    "version": 3
   },
   "file_extension": ".py",
   "mimetype": "text/x-python",
   "name": "python",
   "nbconvert_exporter": "python",
   "pygments_lexer": "ipython3",
   "version": "3.11.4"
  }
 },
 "nbformat": 4,
 "nbformat_minor": 5
}
